{
 "cells": [
  {
   "cell_type": "markdown",
   "metadata": {
    "toc": true
   },
   "source": [
    "<h1>Table of Contents<span class=\"tocSkip\"></span></h1>\n",
    "<div class=\"toc\"><ul class=\"toc-item\"></ul></div>"
   ]
  },
  {
   "cell_type": "markdown",
   "metadata": {},
   "source": [
    "# corner_detection_cpp11"
   ]
  },
  {
   "cell_type": "code",
   "execution_count": 1,
   "metadata": {},
   "outputs": [
    {
     "data": {
      "text/plain": []
     },
     "execution_count": 1,
     "metadata": {},
     "output_type": "execute_result"
    }
   ],
   "source": [
    "#define _CRT_SECURE_NO_WARNINGS"
   ]
  },
  {
   "cell_type": "code",
   "execution_count": 2,
   "metadata": {},
   "outputs": [
    {
     "data": {
      "text/plain": []
     },
     "execution_count": 2,
     "metadata": {},
     "output_type": "execute_result"
    }
   ],
   "source": [
    "#include <iostream>"
   ]
  },
  {
   "cell_type": "code",
   "execution_count": 3,
   "metadata": {},
   "outputs": [
    {
     "data": {
      "text/plain": []
     },
     "execution_count": 3,
     "metadata": {},
     "output_type": "execute_result"
    }
   ],
   "source": [
    "#include <string>"
   ]
  },
  {
   "cell_type": "code",
   "execution_count": 4,
   "metadata": {},
   "outputs": [
    {
     "name": "stderr",
     "output_type": "stream",
     "text": [
      "IncrementalExecutor::executeFunction: symbol '_ZN2cv6String10deallocateEv' unresolved while linking function '__cxx_global_var_initcling_module_3_'!\n",
      "You are probably missing the definition of cv::String::deallocate()\n",
      "Maybe you need to load the corresponding shared library?\n"
     ]
    },
    {
     "data": {
      "text/plain": []
     },
     "execution_count": 4,
     "metadata": {},
     "output_type": "execute_result"
    }
   ],
   "source": [
    "#include <opencv2/opencv.hpp>"
   ]
  },
  {
   "cell_type": "code",
   "execution_count": 5,
   "metadata": {},
   "outputs": [
    {
     "data": {
      "text/plain": []
     },
     "execution_count": 5,
     "metadata": {},
     "output_type": "execute_result"
    }
   ],
   "source": [
    "std::string win_src = \"src\";\n",
    "std::string win_dst = \"dst\";"
   ]
  },
  {
   "cell_type": "code",
   "execution_count": 6,
   "metadata": {},
   "outputs": [
    {
     "data": {
      "text/plain": []
     },
     "execution_count": 6,
     "metadata": {},
     "output_type": "execute_result"
    }
   ],
   "source": [
    "#define IMAGE_DATA_PATH \"../../image/building01.jpg\""
   ]
  },
  {
   "cell_type": "code",
   "execution_count": 7,
   "metadata": {},
   "outputs": [
    {
     "name": "stderr",
     "output_type": "stream",
     "text": [
      "IncrementalExecutor::executeFunction: symbol '_ZN2cv6imreadERKNS_6StringEi' unresolved while linking function '_GLOBAL__sub_I_cling_module_6'!\n",
      "You are probably missing the definition of cv::imread(cv::String const&, int)\n",
      "Maybe you need to load the corresponding shared library?\n",
      "IncrementalExecutor::executeFunction: symbol '_ZN2cv8fastFreeEPv' unresolved while linking function '_GLOBAL__sub_I_cling_module_6'!\n",
      "You are probably missing the definition of cv::fastFree(void*)\n",
      "Maybe you need to load the corresponding shared library?\n",
      "IncrementalExecutor::executeFunction: symbol '_ZN2cv6String10deallocateEv' unresolved while linking function '_GLOBAL__sub_I_cling_module_6'!\n",
      "You are probably missing the definition of cv::String::deallocate()\n",
      "Maybe you need to load the corresponding shared library?\n",
      "IncrementalExecutor::executeFunction: symbol '_ZN2cv6String8allocateEm' unresolved while linking function '_GLOBAL__sub_I_cling_module_6'!\n",
      "You are probably missing the definition of cv::String::allocate(unsigned long)\n",
      "Maybe you need to load the corresponding shared library?\n",
      "IncrementalExecutor::executeFunction: symbol '_ZN2cv3Mat10deallocateEv' unresolved while linking function '_GLOBAL__sub_I_cling_module_6'!\n",
      "You are probably missing the definition of cv::Mat::deallocate()\n",
      "Maybe you need to load the corresponding shared library?\n"
     ]
    },
    {
     "data": {
      "text/plain": []
     },
     "execution_count": 7,
     "metadata": {},
     "output_type": "execute_result"
    }
   ],
   "source": [
    "cv::Mat img_src = cv::imread(IMAGE_DATA_PATH, 1);\n",
    "// https://docs.opencv.org/3.0-beta/modules/imgcodecs/doc/reading_and_writing_images.html?highlight=mat%20imread#Mat%20imread(const%20String&%20filename,%20int%20flags)"
   ]
  },
  {
   "cell_type": "code",
   "execution_count": 8,
   "metadata": {},
   "outputs": [
    {
     "name": "stderr",
     "output_type": "stream",
     "text": [
      "IncrementalExecutor::executeFunction: symbol '_ZN2cv8fastFreeEPv' unresolved while linking function '_GLOBAL__sub_I_cling_module_7'!\n",
      "You are probably missing the definition of cv::fastFree(void*)\n",
      "Maybe you need to load the corresponding shared library?\n",
      "IncrementalExecutor::executeFunction: symbol '_ZN2cv3Mat10deallocateEv' unresolved while linking function '_GLOBAL__sub_I_cling_module_7'!\n",
      "You are probably missing the definition of cv::Mat::deallocate()\n",
      "Maybe you need to load the corresponding shared library?\n"
     ]
    },
    {
     "data": {
      "text/plain": []
     },
     "execution_count": 8,
     "metadata": {},
     "output_type": "execute_result"
    }
   ],
   "source": [
    "cv::Mat img_gray, img_dst;"
   ]
  },
  {
   "cell_type": "code",
   "execution_count": null,
   "metadata": {},
   "outputs": [],
   "source": [
    "//--------------------------------------------------------------------------------\n",
    "// Main\n",
    "//--------------------------------------------------------------------------------\n",
    "\n",
    "if (!img_src.data){\n",
    "std::cout << \"error\" << std::endl;\n",
    "return -1;\n",
    "}\n",
    "\n",
    "cv::cvtColor(img_src, img_gray, cv::COLOR_BGR2GRAY);\n",
    "img_src.copyTo(img_dst);\n",
    "\n",
    "std::vector<cv::Point2f> corners;\n",
    "cv::goodFeaturesToTrack(img_gray, corners, 1000, 0.1, 5);\n",
    "for (int i = 0; i < corners.size(); i++){\n",
    "cv::circle(img_dst,\n",
    "           cv::Point(corners[i].x,\n",
    "                     corners[i].y),\n",
    "           3,\n",
    "           cv::Scalar(0, 0, 255),\n",
    "           2);\n",
    "}\n",
    "\n",
    "// create Window\n",
    "cv::namedWindow(win_src, cv::WINDOW_AUTOSIZE);\n",
    "cv::namedWindow(win_dst, cv::WINDOW_AUTOSIZE);\n",
    "\n",
    "// Display\n",
    "cv::imshow(win_src, img_src);\n",
    "cv::moveWindow(win_src,  20, 100);  \n",
    "\n",
    "cv::imshow(win_dst, img_dst);\n",
    "cv::moveWindow(win_dst, 500, 100);\n",
    "\n",
    "cv::waitKey(0);"
   ]
  },
  {
   "cell_type": "code",
   "execution_count": null,
   "metadata": {},
   "outputs": [],
   "source": []
  },
  {
   "cell_type": "code",
   "execution_count": null,
   "metadata": {},
   "outputs": [],
   "source": []
  },
  {
   "cell_type": "code",
   "execution_count": null,
   "metadata": {},
   "outputs": [],
   "source": []
  }
 ],
 "metadata": {
  "kernelspec": {
   "display_name": "C++11",
   "language": "C++",
   "name": "cling-cpp11"
  },
  "language_info": {
   "codemirror_mode": "c++",
   "file_extension": ".c++",
   "mimetype": "text/x-c++src",
   "name": "c++"
  },
  "toc": {
   "base_numbering": 1,
   "nav_menu": {},
   "number_sections": true,
   "sideBar": true,
   "skip_h1_title": true,
   "title_cell": "Table of Contents",
   "title_sidebar": "Contents",
   "toc_cell": true,
   "toc_position": {},
   "toc_section_display": true,
   "toc_window_display": true
  }
 },
 "nbformat": 4,
 "nbformat_minor": 2
}
